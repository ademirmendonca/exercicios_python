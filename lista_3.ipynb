{
 "cells": [
  {
   "cell_type": "code",
   "execution_count": 9,
   "metadata": {},
   "outputs": [],
   "source": [
    "# Ler o arquivo.\n",
    "# Contar a frequência de cada palavra (ignorando maiúsculas/minúsculas).\n",
    "# Escrever os resultados em um novo arquivo chamado frequencia_palavras.txt\n",
    "\n",
    "with open(\"./arquivos/texto.txt\", \"r\") as arquivo:\n",
    "    dados = arquivo.read()"
   ]
  },
  {
   "cell_type": "code",
   "execution_count": 16,
   "metadata": {},
   "outputs": [
    {
     "data": {
      "text/plain": [
       "{'python': 3,\n",
       " 'é': 2,\n",
       " 'uma': 1,\n",
       " 'linguagem': 1,\n",
       " 'poderosa': 1,\n",
       " 'fácil': 1,\n",
       " 'de': 1,\n",
       " 'aprender': 2,\n",
       " 'pode': 1,\n",
       " 'abrir': 1,\n",
       " 'muitas': 1,\n",
       " 'portas': 1}"
      ]
     },
     "execution_count": 16,
     "metadata": {},
     "output_type": "execute_result"
    }
   ],
   "source": [
    "resultado_dict = {}\n",
    "conteudos = dados.lower().replace(\",\",\"\").replace(\".\", \"\").split(\" \")\n",
    "\n",
    "for conteudo in conteudos:    \n",
    "    if conteudo not in resultado_dict.keys():\n",
    "        resultado_dict[conteudo]=1\n",
    "    else:\n",
    "        resultado_dict[conteudo]+=1\n",
    "\n",
    "resultado_dict"
   ]
  },
  {
   "cell_type": "code",
   "execution_count": 18,
   "metadata": {},
   "outputs": [
    {
     "name": "stdout",
     "output_type": "stream",
     "text": [
      "['Nome', 'Nota1', 'Nota2', 'Nota3']\n",
      "['Ana', '8', '7', '9']\n",
      "['Bruno', '6', '5', '7']\n",
      "['Carlos', '9', '8', '10']\n"
     ]
    }
   ],
   "source": [
    "# Ler o arquivo notas.csv. \n",
    "# Calcular a média das 3 notas de cada aluno. \n",
    "# Salvar o resultado em um novo arquivo chamado media_alunos.csv, com as colunas: \n",
    "# Nome \n",
    "# Média\n",
    "import csv\n",
    "with open('./arquivos/notas.csv', 'r', encoding='utf-8') as arquivo_csv:\n",
    "    reader = csv.reader(arquivo_csv)\n",
    "    for linha in reader: # fazer o for com enumerate\n",
    "        print(linha)"
   ]
  },
  {
   "cell_type": "code",
   "execution_count": 88,
   "metadata": {},
   "outputs": [
    {
     "data": {
      "text/plain": [
       "{'vermelha': ['maçã', 'morango', 'melancia'],\n",
       " 'amarela': ['banana', 'abacaxi'],\n",
       " 'roxa': ['uva']}"
      ]
     },
     "execution_count": 88,
     "metadata": {},
     "output_type": "execute_result"
    }
   ],
   "source": [
    "# Ler o arquivo frutas.txt.\n",
    "# Criar um dicionário onde a chave é a categoria e o valor é uma lista de frutas dessa categoria.\n",
    "# Escrever um arquivo frutas_por_categoria.txt onde cada linha mostra a categoria e as frutas associadas.\n",
    "import csv\n",
    "\n",
    "frutas = {}\n",
    "with open(\"./arquivos/frutas.txt\", mode=\"r\", encoding='utf-8') as arquivo:\n",
    "    leitor = csv.reader(arquivo, delimiter=';')\n",
    "    next(leitor)\n",
    "    for linha in leitor:\n",
    "        nome, categoria = linha\n",
    "        if categoria in frutas.keys():\n",
    "            frutas[categoria].append(nome)\n",
    "        else:\n",
    "            frutas[categoria] = [nome]\n",
    "frutas"
   ]
  }
 ],
 "metadata": {
  "kernelspec": {
   "display_name": "base",
   "language": "python",
   "name": "python3"
  },
  "language_info": {
   "codemirror_mode": {
    "name": "ipython",
    "version": 3
   },
   "file_extension": ".py",
   "mimetype": "text/x-python",
   "name": "python",
   "nbconvert_exporter": "python",
   "pygments_lexer": "ipython3",
   "version": "3.9.20"
  }
 },
 "nbformat": 4,
 "nbformat_minor": 2
}
