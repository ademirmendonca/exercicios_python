{
 "cells": [
  {
   "cell_type": "markdown",
   "metadata": {},
   "source": [
    "#### Exercícios de lógica utilizando Python"
   ]
  },
  {
   "cell_type": "code",
   "execution_count": 6,
   "metadata": {},
   "outputs": [
    {
     "name": "stdout",
     "output_type": "stream",
     "text": [
      "A soma total dos números pares é: 222\n"
     ]
    }
   ],
   "source": [
    "# 1. Soma de Números Pares\n",
    "# Dada a lista abaixo, crie um programa que some apenas os números pares:\n",
    "\n",
    "numeros = [13, 22, 7, 14, 36, 55, 62, 71, 88]\n",
    "total = 0\n",
    "\n",
    "for numero in numeros:\n",
    "    if numero % 2 == 0:\n",
    "        total += numero\n",
    "\n",
    "print(f\"A soma total dos números pares é: {total}\")"
   ]
  },
  {
   "cell_type": "code",
   "execution_count": 8,
   "metadata": {},
   "outputs": [
    {
     "name": "stdout",
     "output_type": "stream",
     "text": [
      "banana, possui mais de 5 caracteres.\n",
      "maçã, possui 5 caracteres, ou menos.\n",
      "abacaxi, possui mais de 5 caracteres.\n",
      "uva, possui 5 caracteres, ou menos.\n",
      "laranja, possui mais de 5 caracteres.\n",
      "kiwi, possui 5 caracteres, ou menos.\n",
      "morango, possui mais de 5 caracteres.\n"
     ]
    }
   ],
   "source": [
    "# 2. Palavras com Mais de 5 Letras\n",
    "# Dada a lista de palavras, exiba somente aquelas que possuem mais de 5 letras:\n",
    "\n",
    "palavras = [\"banana\", \"maçã\", \"abacaxi\", \"uva\", \"laranja\", \"kiwi\", \"morango\"]\n",
    "\n",
    "for palavra in palavras:\n",
    "    if len(palavra) > 5:\n",
    "        print(f\"{palavra}, possui mais de 5 caracteres.\")\n",
    "    else:\n",
    "        print(f\"{palavra}, possui 5 caracteres, ou menos.\")"
   ]
  },
  {
   "cell_type": "code",
   "execution_count": 16,
   "metadata": {},
   "outputs": [
    {
     "name": "stdout",
     "output_type": "stream",
     "text": [
      "8\n"
     ]
    }
   ],
   "source": [
    "# 3. Contador de Letras\n",
    "# Dada a string abaixo, conte quantas vezes a letra \"a\" (maiúscula ou minúscula) aparece:\n",
    "import re\n",
    "\n",
    "texto = \"A vida é bela, mas às vezes bela demais para ser verdade.\"\n",
    "novo_texto = re.sub(u'[^a-zA-Z0-9: ]', '', texto.encode().decode('utf-8'))\n",
    "count = 0\n",
    "for text in novo_texto.split(\" \"):\n",
    "    if \"a\" in text.lower():        \n",
    "        count += 1\n",
    "print(count)"
   ]
  },
  {
   "cell_type": "code",
   "execution_count": 89,
   "metadata": {},
   "outputs": [
    {
     "data": {
      "text/plain": [
       "{1: 1, 2: 4, 3: 9, 4: 16, 5: 25, 6: 36, 7: 49, 8: 64, 9: 81, 10: 100}"
      ]
     },
     "execution_count": 89,
     "metadata": {},
     "output_type": "execute_result"
    }
   ],
   "source": [
    "# 4. Dicionário de Quadrados\n",
    "# Crie um dicionário onde a chave é um número de 1 a 10, e o valor é o seu quadrado.\n",
    "\n",
    "dicionario = {}\n",
    "for lista in range(1, 11):\n",
    "    chave = lista\n",
    "    quadrado = lista ** 2\n",
    "    dicionario[lista]=quadrado\n",
    "dicionario\n"
   ]
  },
  {
   "cell_type": "code",
   "execution_count": 1,
   "metadata": {},
   "outputs": [
    {
     "name": "stdout",
     "output_type": "stream",
     "text": [
      "[4, 7, 2, 9, 1, 6]\n"
     ]
    }
   ],
   "source": [
    "# 5. Remover Duplicatas\n",
    "# Dada a lista a seguir, remova os elementos duplicados mantendo a ordem original:\n",
    "\n",
    "lista_com_duplicatas = [4, 7, 2, 4, 7, 9, 2, 1, 6]\n",
    "nova_lista = []\n",
    "for lista in lista_com_duplicatas:\n",
    "    if lista not in nova_lista:\n",
    "        nova_lista.append(lista)\n",
    "print(nova_lista)"
   ]
  },
  {
   "cell_type": "code",
   "execution_count": 5,
   "metadata": {},
   "outputs": [
    {
     "data": {
      "text/plain": [
       "['Ana', 'João', 'Carla', 'Maria']"
      ]
     },
     "execution_count": 5,
     "metadata": {},
     "output_type": "execute_result"
    }
   ],
   "source": [
    "# 6. Nomes com a Primeira Letra Maiúscula\n",
    "# Formate os nomes da lista para que apenas a primeira letra fique maiúscula, o restante minúsculo:\n",
    "nomes = [\"ANA\", \"joÃO\", \"cArLa\", \"mARiA\"]\n",
    "nomes_maiusculos = list(map(lambda x: x.capitalize(), nomes))\n",
    "nomes_maiusculos"
   ]
  },
  {
   "cell_type": "code",
   "execution_count": 23,
   "metadata": {},
   "outputs": [
    {
     "name": "stdout",
     "output_type": "stream",
     "text": [
      "Total por categoria: 86.2\n",
      "Total por categoria: 17.25\n",
      "Total por categoria: 100.0\n"
     ]
    }
   ],
   "source": [
    "# 7. Soma de Valores por Categoria\n",
    "# Dado o dicionário abaixo, calcule a soma total dos valores de cada categoria:\n",
    "\n",
    "compras = {\n",
    "    \"alimentação\": [45.90, 22.50, 17.80],\n",
    "    \"transporte\": [10.00, 7.25],\n",
    "    \"lazer\": [50.00, 20.00, 30.00],\n",
    "}\n",
    "\n",
    "for k,values in compras.items():\n",
    "    total = 0\n",
    "    if isinstance(values, list):\n",
    "        for value in values:\n",
    "            total += value\n",
    "    \n",
    "        print(f\"Total por categoria: {total}\")"
   ]
  },
  {
   "cell_type": "code",
   "execution_count": 29,
   "metadata": {},
   "outputs": [
    {
     "name": "stdout",
     "output_type": "stream",
     "text": [
      "radar, é um palíndromo\n"
     ]
    }
   ],
   "source": [
    "# 8. Verificar Palíndromo\n",
    "# Verifique se a palavra abaixo é um palíndromo (ou seja, se pode ser lida da mesma forma de trás pra frente):\n",
    "\n",
    "palavra = \"radar\"\n",
    "\n",
    "palindromo = palavra[::-1]\n",
    "\n",
    "if palindromo == palavra:\n",
    "    print(f\"{palindromo}, é um palíndromo\")\n",
    "else:\n",
    "    print(f\"{palindromo}, não é um palíndromo\")"
   ]
  },
  {
   "cell_type": "code",
   "execution_count": 30,
   "metadata": {},
   "outputs": [
    {
     "name": "stdout",
     "output_type": "stream",
     "text": [
      "1, não é um elemento comum.\n",
      "2, não é um elemento comum.\n",
      "3, não é um elemento comum.\n",
      "4, é um elemento comum.\n",
      "5, é um elemento comum.\n"
     ]
    }
   ],
   "source": [
    "# 9. Intersecção de Listas\n",
    "# Encontre os elementos em comum entre as duas listas:\n",
    "\n",
    "lista1 = [1, 2, 3, 4, 5]\n",
    "lista2 = [4, 5, 6, 7, 8]\n",
    "\n",
    "for lista in lista1:\n",
    "    if lista in lista2:\n",
    "        print(f\"{lista}, é um elemento comum.\")\n",
    "    else:\n",
    "        print(f\"{lista}, não é um elemento comum.\")\n"
   ]
  },
  {
   "cell_type": "code",
   "execution_count": 87,
   "metadata": {},
   "outputs": [
    {
     "data": {
      "text/plain": [
       "{'a': ['amor', 'amizade', 'avião'],\n",
       " 'b': ['bola', 'bicho'],\n",
       " 'c': ['carro', 'cachorro']}"
      ]
     },
     "execution_count": 87,
     "metadata": {},
     "output_type": "execute_result"
    }
   ],
   "source": [
    "# 10. Agrupar Palavras por Letra Inicial\n",
    "# Dada a lista de palavras, agrupe-as em um dicionário, \n",
    "# onde a chave é a primeira letra e o valor é uma lista de palavras que começam com essa letra:\n",
    "\n",
    "palavras = [\"amor\", \"amizade\", \"bola\", \"bicho\", \"carro\", \"cachorro\", \"avião\"]\n",
    "dicionario = {}\n",
    "for palavra in palavras:\n",
    "    if palavra[0] in dicionario.keys():\n",
    "        dicionario[palavra[0]].append(palavra)\n",
    "    else:   \n",
    "        dicionario[palavra[0]]=[palavra]\n",
    "    \n",
    "dicionario"
   ]
  }
 ],
 "metadata": {
  "kernelspec": {
   "display_name": "base",
   "language": "python",
   "name": "python3"
  },
  "language_info": {
   "codemirror_mode": {
    "name": "ipython",
    "version": 3
   },
   "file_extension": ".py",
   "mimetype": "text/x-python",
   "name": "python",
   "nbconvert_exporter": "python",
   "pygments_lexer": "ipython3",
   "version": "3.9.20"
  }
 },
 "nbformat": 4,
 "nbformat_minor": 2
}
