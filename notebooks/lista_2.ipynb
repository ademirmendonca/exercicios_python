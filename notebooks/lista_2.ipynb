{
 "cells": [
  {
   "cell_type": "code",
   "execution_count": 32,
   "metadata": {},
   "outputs": [
    {
     "data": {
      "text/plain": [
       "{'casa': 2, 'carro': 3, 'janela': 1, 'porta': 1}"
      ]
     },
     "execution_count": 32,
     "metadata": {},
     "output_type": "execute_result"
    }
   ],
   "source": [
    "# 1. Contar Frequência de Palavras\n",
    "# Dada a lista de palavras abaixo, crie um dicionário que conte quantas vezes cada palavra aparece.\n",
    "palavras = [\"casa\", \"carro\", \"casa\", \"janela\", \"carro\", \"porta\", \"carro\"]\n",
    "dict_palavras = {}\n",
    "\n",
    "for palavra in palavras:\n",
    "    # verifica se existe os argumentos no dicionario, caso não exista, os argumentos serão adicionados.\n",
    "    if palavra not in dict_palavras.keys():    \n",
    "        dict_palavras[palavra]=1\n",
    "    else:\n",
    "        # Se os argumentos já existem, é somado cada vez que a mesma palavra se repete.\n",
    "        dict_palavras[palavra]+=1\n",
    "\n",
    "dict_palavras\n"
   ]
  },
  {
   "cell_type": "code",
   "execution_count": 69,
   "metadata": {},
   "outputs": [
    {
     "name": "stdout",
     "output_type": "stream",
     "text": [
      "[1, 9, 25, 49, 81]\n"
     ]
    }
   ],
   "source": [
    "# 2. Criar Lista com Quadrado de Números Ímpares\n",
    "# Crie uma nova lista com os quadrados apenas dos números ímpares da lista:\n",
    "numeros = [1, 2, 3, 4, 5, 6, 7, 8, 9]\n",
    "quadrados = []\n",
    "for numero in numeros:\n",
    "    if numero % 2 != 0:\n",
    "        quadrados.append(numero ** 2)\n",
    "print(quadrados)\n"
   ]
  },
  {
   "cell_type": "code",
   "execution_count": 70,
   "metadata": {},
   "outputs": [
    {
     "data": {
      "text/plain": [
       "'nohtyP é amu megaugnil asoredop'"
      ]
     },
     "execution_count": 70,
     "metadata": {},
     "output_type": "execute_result"
    }
   ],
   "source": [
    "# 3. Inverter Palavras\n",
    "# Dada uma frase, retorne uma nova string com as palavras invertidas, mantendo a ordem das palavras.\n",
    "frase = \"Python é uma linguagem poderosa\"\n",
    "frase_split = frase.split(\" \")\n",
    "frase_invertida = \"\"\n",
    "\n",
    "for palavra in frase_split:\n",
    "    palavra_invertida = palavra[::-1]\n",
    "    frase_invertida +=  palavra_invertida + \" \"\n",
    "\n",
    "frase_invertida.strip()\n",
    "\n",
    "# Resultado esperado: \"nohtyP é amu megnaugnil asorevodop\""
   ]
  },
  {
   "cell_type": "code",
   "execution_count": 72,
   "metadata": {},
   "outputs": [
    {
     "data": {
      "text/plain": [
       "['abacate', 'uva', 'ameixa']"
      ]
     },
     "execution_count": 72,
     "metadata": {},
     "output_type": "execute_result"
    }
   ],
   "source": [
    "# 4. Palavras que Começam com Vogal\n",
    "# A partir da lista abaixo, crie uma nova lista apenas com palavras que começam com vogal.\n",
    "palavras = [\"abacate\", \"banana\", \"uva\", \"laranja\", \"ameixa\", \"kiwi\"]\n",
    "vogais = [\"a\", \"e\", \"i\", \"o\", \"u\"]\n",
    "palavras_inicia_vogal = []\n",
    "for palavra in palavras:\n",
    "    if palavra[0].lower() in vogais:\n",
    "        palavras_inicia_vogal.append(palavra)\n",
    "palavras_inicia_vogal"
   ]
  },
  {
   "cell_type": "code",
   "execution_count": 73,
   "metadata": {},
   "outputs": [
    {
     "data": {
      "text/plain": [
       "{3: ['sol', 'lua', 'céu'], 7: ['estrela', 'planeta'], 6: ['cometa']}"
      ]
     },
     "execution_count": 73,
     "metadata": {},
     "output_type": "execute_result"
    }
   ],
   "source": [
    "# 5. Agrupar Palavras por Tamanho\n",
    "# Dada a lista de palavras, crie um dicionário agrupando as palavras com base no número de letras.\n",
    "palavras = [\"sol\", \"lua\", \"estrela\", \"céu\", \"planeta\", \"cometa\"]\n",
    "dicicionario_palavras = {}\n",
    "for palavra in palavras:\n",
    "    if len(palavra) not in dicicionario_palavras.keys():\n",
    "        dicicionario_palavras[len(palavra)]=[palavra]\n",
    "\n",
    "    else:\n",
    "        dicicionario_palavras[len(palavra)].append(palavra)\n",
    "dicicionario_palavras\n"
   ]
  },
  {
   "cell_type": "code",
   "execution_count": 2,
   "metadata": {},
   "outputs": [
    {
     "name": "stdout",
     "output_type": "stream",
     "text": [
      "Os números em comum entre as listas são: [2, 3]\n"
     ]
    }
   ],
   "source": [
    "# 6. Números em Comum entre 3 Listas\n",
    "# Encontre os números que estão presentes nas três listas abaixo:\n",
    "\n",
    "lista1 = [1, 2, 3, 4]\n",
    "lista2 = [2, 3, 5, 6]\n",
    "lista3 = [0, 3, 2, 8]\n",
    "numeros_comuns =[]\n",
    "for lista in lista1:\n",
    "    if lista in lista2 and lista in lista3:\n",
    "        numeros_comuns.append(lista)\n",
    "print(f\"Os números em comum entre as listas são: {numeros_comuns}\")\n"
   ]
  },
  {
   "cell_type": "code",
   "execution_count": 3,
   "metadata": {},
   "outputs": [
    {
     "name": "stdout",
     "output_type": "stream",
     "text": [
      "Ola, voce esta bem? Esta com saude e disposicao?\n"
     ]
    }
   ],
   "source": [
    "# 7. Substituir Caracteres Especiais\n",
    "# Dada a string abaixo, substitua todos os caracteres acentuados por suas versões sem acento.\n",
    "import unicodedata\n",
    "texto = \"Olá, você está bem? Está com saúde e disposição?\"\n",
    "\n",
    "string_nova = ''.join(ch for ch in unicodedata.normalize('NFKD', texto) \n",
    "    if not unicodedata.combining(ch))\n",
    "print(string_nova)"
   ]
  },
  {
   "cell_type": "code",
   "execution_count": 51,
   "metadata": {},
   "outputs": [
    {
     "name": "stdout",
     "output_type": "stream",
     "text": [
      "{'a': 10, 'b': 25, 'c': 45, 'd': 25}\n"
     ]
    }
   ],
   "source": [
    "# 8. Concatenar Dicionários\n",
    "# Junte os dois dicionários abaixo em um só. Em caso de chaves repetidas, some os valores.\n",
    "d1 = {\"a\": 10, \"b\": 20, \"c\": 30}\n",
    "d2 = {\"b\": 5, \"c\": 15, \"d\": 25}\n",
    "\n",
    "for k,v in d2.items():\n",
    "    if k in d1.keys():\n",
    "        d1[k]+=v\n",
    "\n",
    "    else:\n",
    "        d1[k]=v\n",
    "print(d1)\n"
   ]
  },
  {
   "cell_type": "code",
   "execution_count": 75,
   "metadata": {},
   "outputs": [
    {
     "name": "stdout",
     "output_type": "stream",
     "text": [
      "['mar', 'nuvem', 'céu']\n"
     ]
    }
   ],
   "source": [
    "# 9. Listar Palavras que Aparecem Só Uma Vez\n",
    "# A partir da lista abaixo, exiba apenas as palavras que aparecem uma única vez.\n",
    "palavras = [\"rio\", \"mar\", \"rio\", \"vento\", \"nuvem\", \"vento\", \"céu\"]\n",
    "\n",
    "unicas = [p for p in palavras if palavras.count(p) == 1]\n",
    "print(unicas)\n"
   ]
  },
  {
   "cell_type": "code",
   "execution_count": 79,
   "metadata": {},
   "outputs": [
    {
     "name": "stdout",
     "output_type": "stream",
     "text": [
      "Total de entradas: R$2200.0\n",
      "Total de saídas: R$700.0\n",
      "Saldo final: R$1500.0\n"
     ]
    }
   ],
   "source": [
    "# 10. Somar Itens por Categoria com Dicionário\n",
    "# Utilize o dicionário abaixo para calcular o total por tipo de transação:\n",
    "transacoes = [\n",
    "    {\"tipo\": \"entrada\", \"valor\": 1500},\n",
    "    {\"tipo\": \"saída\", \"valor\": 500},\n",
    "    {\"tipo\": \"entrada\", \"valor\": 700},\n",
    "    {\"tipo\": \"saída\", \"valor\": 200},\n",
    "]\n",
    "\n",
    "total_entrada = 0.00\n",
    "total_saida = 0.00\n",
    "\n",
    "for transacao in transacoes:\n",
    "    if transacao[\"tipo\"] == \"entrada\":\n",
    "        total_entrada += transacao[\"valor\"]\n",
    "    elif transacao[\"tipo\"] == \"saída\":\n",
    "        total_saida += transacao[\"valor\"]\n",
    "\n",
    "total_geral = total_entrada - total_saida\n",
    "\n",
    "print(f\"Total de entradas: R${total_entrada}\")\n",
    "print(f\"Total de saídas: R${total_saida}\")\n",
    "print(f\"Saldo final: R${total_geral}\")\n"
   ]
  }
 ],
 "metadata": {
  "kernelspec": {
   "display_name": "base",
   "language": "python",
   "name": "python3"
  },
  "language_info": {
   "codemirror_mode": {
    "name": "ipython",
    "version": 3
   },
   "file_extension": ".py",
   "mimetype": "text/x-python",
   "name": "python",
   "nbconvert_exporter": "python",
   "pygments_lexer": "ipython3",
   "version": "3.9.20"
  }
 },
 "nbformat": 4,
 "nbformat_minor": 2
}
