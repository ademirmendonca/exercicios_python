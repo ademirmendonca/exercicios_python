{
 "cells": [
  {
   "cell_type": "code",
   "execution_count": 2,
   "metadata": {},
   "outputs": [],
   "source": [
    "# imports\n",
    "import re"
   ]
  },
  {
   "cell_type": "code",
   "execution_count": null,
   "metadata": {},
   "outputs": [],
   "source": [
    "# 📝 Exercício 1 – Somar valores por categoria\n",
    "# Arquivo de entrada: vendas.csv\n",
    "# Formato: categoria;produto;valor\n",
    "# vendas.csv \n",
    "# Objetivo:\n",
    "# Somar o valor total por categoria.\n",
    "# Salvar em total_por_categoria.txt no formato:\n",
    "#Eletrônicos: 12890.50\n",
    "#Alimentos: 7590.20\n"
   ]
  },
  {
   "cell_type": "code",
   "execution_count": 11,
   "metadata": {},
   "outputs": [],
   "source": [
    "# 📝 Exercício 2 – Verificar e-mails válidos\n",
    "# Arquivo de entrada: emails.txt\n",
    "\n",
    "# Objetivo:\n",
    "# Verificar quais e-mails são válidos (usando regex simples: devem conter @ e terminar com .com).\n",
    "# Salvar os e-mails válidos em emails_validos.txt.\n",
    "\n",
    "path_saida = \"/home/ademir/exercicios_logica/arquivos/solucoes/emails_validos.txt\"\n",
    "\n",
    "def validar_email(emails:str):\n",
    "    \n",
    "    for email in emails:\n",
    "        regex = r\"^[a-zA-Z0-9._%+-]+@[a-zA-Z0-9.-]+\\.[a-zA-Z]{2,}$\"\n",
    "        if re.match(regex, email):\n",
    "            with open(path_saida, mode=\"a\") as salvar_arquivo:\n",
    "                salvar_arquivo.write(email)\n",
    "\n",
    "\n",
    "path = \"/home/ademir/exercicios_logica/arquivos/fontes/emails.txt\"\n",
    "with open(path, mode=\"r\") as arquivo:\n",
    "    conteudo = arquivo.readlines()\n",
    "    #print(conteudo)\n",
    "    validar_email(conteudo)\n",
    "\n"
   ]
  },
  {
   "cell_type": "code",
   "execution_count": null,
   "metadata": {},
   "outputs": [],
   "source": [
    "# 📝 Exercício 3 – Contar ocorrência de cada letra\n",
    "# Arquivo de entrada: letras.txt\n",
    "# Objetivo:\n",
    "# letras.txt\n",
    "# Contar quantas vezes cada letra do alfabeto aparece no arquivo.\n",
    "\n",
    "# Ignorar letras maiúsculas/minúsculas.\n",
    "\n",
    "# Salvar em frequencia_letras.txt, ex:"
   ]
  },
  {
   "cell_type": "code",
   "execution_count": null,
   "metadata": {},
   "outputs": [],
   "source": [
    "# 📝 Exercício 4 – Criar relatório de produtos com estoque baixo\n",
    "# Arquivo de entrada: produtos.csv\n",
    "# Formato: produto;estoque\n",
    "# Objetivo:\n",
    "# produtos.csv\n",
    "# Filtrar produtos com estoque menor que 10 unidades.\n",
    "\n",
    "# Salvar em estoque_baixo.csv."
   ]
  },
  {
   "cell_type": "code",
   "execution_count": null,
   "metadata": {},
   "outputs": [],
   "source": [
    "# 📝 Exercício 5 – Criar senhas seguras\n",
    "# Arquivo de entrada: nomes_usuarios.txt\n",
    "# nomes_usuarios.txt\n",
    "# Objetivo:\n",
    "# Para cada nome, gerar uma senha no formato:\n",
    "# nome123@!\n",
    "# Salvar no arquivo senhas_geradas.txt com o formato:\n",
    "# maria: maria123@!\n",
    "# joao: joao123@!\n"
   ]
  }
 ],
 "metadata": {
  "kernelspec": {
   "display_name": "base",
   "language": "python",
   "name": "python3"
  },
  "language_info": {
   "codemirror_mode": {
    "name": "ipython",
    "version": 3
   },
   "file_extension": ".py",
   "mimetype": "text/x-python",
   "name": "python",
   "nbconvert_exporter": "python",
   "pygments_lexer": "ipython3",
   "version": "3.9.20"
  }
 },
 "nbformat": 4,
 "nbformat_minor": 2
}
