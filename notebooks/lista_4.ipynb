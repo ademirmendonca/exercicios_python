{
 "cells": [
  {
   "cell_type": "code",
   "execution_count": 1,
   "metadata": {},
   "outputs": [],
   "source": [
    "import csv"
   ]
  },
  {
   "cell_type": "code",
   "execution_count": 2,
   "metadata": {},
   "outputs": [],
   "source": [
    "def carregar_arquivos(path, delimitador, header):\n",
    "    with open(path, mode='r', encoding='utf-8') as arquivo:\n",
    "        conteudos = csv.reader(arquivo, delimiter=delimitador)\n",
    "        \n",
    "        if header == True:\n",
    "            next(conteudos)\n",
    "        else:\n",
    "            pass\n",
    "        conteudo = list(conteudos)\n",
    "\n",
    "    return conteudo\n",
    "    \n",
    "def salvar_arquivos_dict(conteudo, nome, path):\n",
    "    with open(f\"{path} {nome}\", \"w\", encoding=\"utf-8\") as saida:\n",
    "        for k, v in conteudo.items():\n",
    "            saida.write(f\"{k}: {', '.join(v)}\\n\")"
   ]
  },
  {
   "cell_type": "code",
   "execution_count": 10,
   "metadata": {},
   "outputs": [],
   "source": [
    "# Ler o arquivo nomes.txt\n",
    "# Agrupar os nomes por letra inicial\n",
    "path = \"/home/ademir/exercicios_logica/arquivos/fontes/estoque.csv\"\n",
    "path_saida = \"/home/ademir/exercicios_logica/arquivos/solucoes\"\n",
    "nome_arquivo = \"nomes_por_letra.txt\"\n",
    "dict_nomes = {}\n",
    "\n",
    "nomes = carregar_arquivos(path)\n",
    "\n",
    "for nome in nomes:\n",
    "    if nome[0] not in dict_nomes.keys():\n",
    "        dict_nomes[nome[0]]=[nome]\n",
    "    else:\n",
    "        dict_nomes[nome[0]].append(nome)\n",
    "\n",
    "salvar_arquivos_dict(conteudo=dict_nomes, nome=nome_arquivo, path=path_saida)"
   ]
  },
  {
   "cell_type": "code",
   "execution_count": null,
   "metadata": {},
   "outputs": [],
   "source": [
    "# Calcular o valor total de cada produto (quantidade * preço_unitário)\n",
    "# Salvar no arquivo relatorio_estoque.csv com as colunas:\n",
    "# produto;quantidade;preco_unitario;valor_total\n",
    "\n",
    "path = \"/home/ademir/exercicios_logica/arquivos/fontes/estoque.csv\"\n",
    "delimitador = \";\"\n",
    "path_saida = \"/home/ademir/exercicios_logica/arquivos/solucoes\"\n",
    "nome_arquivo = \"relatorio_estoque.csv\"\n",
    "dict_nomes = {}\n",
    "lista_media = []\n",
    "total = 0.00\n",
    "header = True\n",
    "\n",
    "dados = carregar_arquivos(path, delimitador, header)\n",
    "\n",
    "with open(f'{path_saida}relatorio_estoque.csv', 'w', newline='') as csvfile:\n",
    "    arquivo = csv.writer(csvfile, delimiter=\",\")\n",
    "    arquivo.writerow([\"produto\", \"quantidade\", \"preco_unitario\", \"total\"])\n",
    "    for dado in dados:\n",
    "        total = float(dado[1]) + float(dado[2])\n",
    "        dado.append(total)\n",
    "        arquivo.writerow(dado)"
   ]
  },
  {
   "cell_type": "markdown",
   "metadata": {},
   "source": [
    "# 📝 Exercício 3 – Contar linhas, palavras e caracteres\n",
    "# Arquivo de entrada: texto_longo.txt\n",
    "# (30 linhas com frases aleatórias):\n",
    "# Objetivo:\n",
    "\n",
    "# Contar: Número de linhas\n",
    "# número total de palavras\n",
    "# número total de caracteres (sem espaço em branco)\n",
    "# Salvar os resultados no arquivo resumo.txt no seguinte formato:\n",
    "# Linhas: 30\n",
    "# Palavras: XXX\n",
    "# Caracteres (sem espaços): XXX\n"
   ]
  },
  {
   "cell_type": "code",
   "execution_count": 45,
   "metadata": {},
   "outputs": [
    {
     "name": "stdout",
     "output_type": "stream",
     "text": [
      "30\n",
      "154\n",
      "833\n"
     ]
    }
   ],
   "source": [
    "path = \"/home/ademir/exercicios_logica/arquivos/fontes/texto_longo.txt\"\n",
    "path_saida = \"/home/ademir/exercicios_logica/arquivos/solucoes\"\n",
    "\n",
    "\n",
    "with open(path, \"r\") as arquivo:\n",
    "    conteudo = arquivo.readlines()\n",
    "    total_linhas = 0\n",
    "    total_palavras = 0\n",
    "    total_caracteres = 0\n",
    "\n",
    "    for linha in conteudo:\n",
    "        total_linhas += 1\n",
    "        total_palavras += len(linha.split(\" \"))\n",
    "        total_caracteres += len(linha.replace(\" \", \"\"))\n",
    "\n",
    "\n",
    "    print(total_linhas)\n",
    "    print(total_palavras)\n",
    "    print(total_caracteres)\n",
    "\n"
   ]
  },
  {
   "cell_type": "code",
   "execution_count": null,
   "metadata": {},
   "outputs": [],
   "source": [
    "# 📝 Exercício 4 – Converter temperaturas\n",
    "# Arquivo de entrada: temperaturas.txt\n",
    "# (30 valores em Celsius):\n",
    "# Objetivo:\n",
    "\n",
    "# Converter para Fahrenheit: F = (C * 9/5) + 32\n",
    "\n",
    "# Salvar no arquivo temperaturas_convertidas.txt no formato:\n",
    "# 25°C = 77.0°F\n",
    "# 30°C = 86.0°F\n",
    "# ...\n"
   ]
  },
  {
   "cell_type": "code",
   "execution_count": null,
   "metadata": {},
   "outputs": [],
   "source": [
    "# 📝 Exercício 5 – Filtrar maiores de idade\n",
    "# Arquivo de entrada: pessoas.csv\n",
    "# (30 pessoas):\n",
    "# Objetivo:\n",
    "\n",
    "# Filtrar apenas quem tem idade >= 18\n",
    "\n",
    "# Salvar em maiores_idade.csv os nomes e idades"
   ]
  }
 ],
 "metadata": {
  "kernelspec": {
   "display_name": "base",
   "language": "python",
   "name": "python3"
  },
  "language_info": {
   "codemirror_mode": {
    "name": "ipython",
    "version": 3
   },
   "file_extension": ".py",
   "mimetype": "text/x-python",
   "name": "python",
   "nbconvert_exporter": "python",
   "pygments_lexer": "ipython3",
   "version": "3.9.20"
  }
 },
 "nbformat": 4,
 "nbformat_minor": 2
}
