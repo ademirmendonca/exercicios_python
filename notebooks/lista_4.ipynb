{
 "cells": [
  {
   "cell_type": "code",
   "execution_count": 5,
   "metadata": {},
   "outputs": [],
   "source": [
    "import csv"
   ]
  },
  {
   "cell_type": "code",
   "execution_count": 29,
   "metadata": {},
   "outputs": [],
   "source": [
    "def carregar_arquivos(path, delimitador, header):\n",
    "    with open(path, mode='r', encoding='utf-8') as arquivo:\n",
    "        conteudos = csv.reader(arquivo, delimiter=delimitador)\n",
    "        \n",
    "        if header == True:\n",
    "            next(conteudos)\n",
    "        else:\n",
    "            pass\n",
    "        conteudo = list(conteudos)\n",
    "\n",
    "    return conteudo\n",
    "    \n",
    "def salvar_arquivos_dict(conteudo, nome, path):\n",
    "    with open(f\"{path} {nome}\", \"w\", encoding=\"utf-8\") as saida:\n",
    "        for k, v in conteudo.items():\n",
    "            saida.write(f\"{k}: {', '.join(v)}\\n\")"
   ]
  },
  {
   "cell_type": "code",
   "execution_count": 10,
   "metadata": {},
   "outputs": [],
   "source": [
    "# Ler o arquivo nomes.txt\n",
    "# Agrupar os nomes por letra inicial\n",
    "path = \"/home/ademir/exercicios_logica/arquivos/fontes/estoque.csv\"\n",
    "path_saida = \"/home/ademir/exercicios_logica/arquivos/solucoes\"\n",
    "nome_arquivo = \"nomes_por_letra.txt\"\n",
    "dict_nomes = {}\n",
    "\n",
    "nomes = carregar_arquivos(path)\n",
    "\n",
    "for nome in nomes:\n",
    "    if nome[0] not in dict_nomes.keys():\n",
    "        dict_nomes[nome[0]]=[nome]\n",
    "    else:\n",
    "        dict_nomes[nome[0]].append(nome)\n",
    "\n",
    "salvar_arquivos_dict(conteudo=dict_nomes, nome=nome_arquivo, path=path_saida)"
   ]
  },
  {
   "cell_type": "code",
   "execution_count": 61,
   "metadata": {},
   "outputs": [
    {
     "name": "stdout",
     "output_type": "stream",
     "text": [
      "['Caneta', '100', '1.5', 101.5]\n",
      "['Caderno', '50', '12.0', 62.0]\n",
      "['Borracha', '200', '0.75', 200.75]\n",
      "['Lápis', '150', '1.2', 151.2]\n",
      "['Marca-texto', '80', '3.0', 83.0]\n",
      "['Apontador', '60', '1.8', 61.8]\n",
      "['Cola', '40', '2.5', 42.5]\n",
      "['Tesoura', '70', '5.0', 75.0]\n",
      "['Régua', '90', '2.0', 92.0]\n",
      "['Grampeador', '30', '15.0', 45.0]\n",
      "['Fita adesiva', '100', '4.5', 104.5]\n",
      "['Papel sulfite', '500', '0.1', 500.1]\n",
      "['Envelope', '200', '0.2', 200.2]\n",
      "['Cartolina', '60', '1.7', 61.7]\n",
      "['Canetinha', '120', '2.0', 122.0]\n",
      "['Pasta', '70', '1.6', 71.6]\n",
      "['Pen drive', '20', '35.0', 55.0]\n",
      "['Notebook', '10', '2500.0', 2510.0]\n",
      "['Mouse', '25', '45.0', 70.0]\n",
      "['Teclado', '15', '70.0', 85.0]\n",
      "['HD externo', '5', '400.0', 405.0]\n",
      "['Monitor', '8', '950.0', 958.0]\n",
      "['Webcam', '12', '120.0', 132.0]\n",
      "['Caixa de som', '18', '85.0', 103.0]\n",
      "['Adaptador', '40', '25.0', 65.0]\n",
      "['Cabo HDMI', '50', '20.0', 70.0]\n",
      "['Suporte', '22', '35.0', 57.0]\n",
      "['Fone de ouvido', '30', '60.0', 90.0]\n",
      "['Estabilizador', '10', '180.0', 190.0]\n",
      "['Impressora', '3', '1200.0', 1203.0]\n"
     ]
    }
   ],
   "source": [
    "# Calcular o valor total de cada produto (quantidade * preço_unitário)\n",
    "# Salvar no arquivo relatorio_estoque.csv com as colunas:\n",
    "# produto;quantidade;preco_unitario;valor_total\n",
    "\n",
    "path = \"/home/ademir/exercicios_logica/arquivos/fontes/estoque.csv\"\n",
    "delimitador = \";\"\n",
    "path_saida = \"./arquivos/solucoes/\"\n",
    "nome_arquivo = \"relatorio_estoque.csv\"\n",
    "dict_nomes = {}\n",
    "lista_media = []\n",
    "total = 0.00\n",
    "header = True # Passando o header para ignorar o cabeçalho\n",
    "\n",
    "dados = carregar_arquivos(path, delimitador, header)\n",
    "\n",
    "for dado in dados:\n",
    "    total = float(dado[1]) + float(dado[2])\n",
    "    dado.append(total)\n",
    "    print(dado)\n"
   ]
  }
 ],
 "metadata": {
  "kernelspec": {
   "display_name": "base",
   "language": "python",
   "name": "python3"
  },
  "language_info": {
   "codemirror_mode": {
    "name": "ipython",
    "version": 3
   },
   "file_extension": ".py",
   "mimetype": "text/x-python",
   "name": "python",
   "nbconvert_exporter": "python",
   "pygments_lexer": "ipython3",
   "version": "3.9.20"
  }
 },
 "nbformat": 4,
 "nbformat_minor": 2
}
