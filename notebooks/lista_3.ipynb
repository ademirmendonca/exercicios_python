{
 "cells": [
  {
   "cell_type": "code",
   "execution_count": 13,
   "metadata": {},
   "outputs": [],
   "source": [
    "# Imports\n",
    "import csv\n",
    "import re"
   ]
  },
  {
   "cell_type": "code",
   "execution_count": 42,
   "metadata": {},
   "outputs": [],
   "source": [
    "# Ler o arquivo.\n",
    "# Contar a frequência de cada palavra (ignorando maiúsculas/minúsculas).\n",
    "# Escrever os resultados em um novo arquivo chamado frequencia_palavras.txt\n",
    "\n",
    "with open(\"./arquivos/texto.txt\", \"r\") as arquivo:\n",
    "    dados = arquivo.read()"
   ]
  },
  {
   "cell_type": "code",
   "execution_count": 43,
   "metadata": {},
   "outputs": [],
   "source": [
    "resultado_dict = {}\n",
    "conteudos = dados.lower().replace(\",\",\"\").replace(\".\", \"\").split(\" \")\n",
    "\n",
    "for conteudo in conteudos:    \n",
    "    if conteudo not in resultado_dict.keys():\n",
    "        resultado_dict[conteudo]=1\n",
    "    else:\n",
    "        resultado_dict[conteudo]+=1\n",
    "\n",
    "with open(\"./arquivos/frequencia_palavras.txt\", \"w\", encoding=\"utf-8\") as saida:\n",
    "    for palavra, frequencia in resultado_dict.items():\n",
    "        saida.write(f\"{palavra}: {frequencia}\\n\")\n"
   ]
  },
  {
   "cell_type": "code",
   "execution_count": 44,
   "metadata": {},
   "outputs": [],
   "source": [
    "# Ler o arquivo notas.csv. \n",
    "# Calcular a média das 3 notas de cada aluno. \n",
    "# Salvar o resultado em um novo arquivo chamado media_alunos.csv, com as colunas: \n",
    "# Nome, Média\n",
    "total_dic = {}\n",
    "media_dic = {}\n",
    "with open('./arquivos/notas.csv', 'r', encoding='utf-8') as arquivo_csv:\n",
    "    reader = csv.reader(arquivo_csv)\n",
    "    next(reader)\n",
    "    for linhas in reader: # fazer o for com enumerate\n",
    "        for linha in linhas:\n",
    "            if  re.findall(r'[0-9]+(\\.[0-9]+)?', linha):\n",
    "                linha = float(linha)\n",
    "                if linhas[0] not in total_dic.keys():\n",
    "                    total_dic[linhas[0]]=linha\n",
    "                else:\n",
    "                    total_dic[linhas[0]]+=linha\n",
    "\n",
    "for k,v in total_dic.items():\n",
    "    media_final = v / 3\n",
    "    media_dic[k]=media_final\n",
    "\n",
    "with open('./arquivos/media_alunos.csv', 'w', encoding='utf-8', newline='') as saida:\n",
    "    writer = csv.writer(saida)\n",
    "    writer.writerow([\"Nome\", \"Média\"])\n",
    "    for nome, media in media_dic.items():\n",
    "        writer.writerow([nome, media])\n",
    "\n",
    "\n"
   ]
  },
  {
   "cell_type": "code",
   "execution_count": 45,
   "metadata": {},
   "outputs": [],
   "source": [
    "# Ler o arquivo frutas.txt.\n",
    "# Criar um dicionário onde a chave é a categoria e o valor é uma lista de frutas dessa categoria.\n",
    "# Escrever um arquivo frutas_por_categoria.txt onde cada linha mostra a categoria e as frutas associadas.\n",
    "import csv\n",
    "\n",
    "frutas = {}\n",
    "with open(\"./arquivos/frutas.txt\", mode=\"r\", encoding='utf-8') as arquivo:\n",
    "    leitor = csv.reader(arquivo, delimiter=';')\n",
    "    next(leitor)\n",
    "    for linha in leitor:\n",
    "        nome, categoria = linha\n",
    "        if categoria in frutas.keys():\n",
    "            frutas[categoria].append(nome)\n",
    "        else:\n",
    "            frutas[categoria] = [nome]\n",
    "with open(\"./arquivos/frutas_por_categoria.txt\", \"w\", encoding=\"utf-8\") as saida:\n",
    "    for categoria, lista_frutas in frutas.items():\n",
    "        saida.write(f\"{categoria}: {', '.join(lista_frutas)}\\n\")\n"
   ]
  }
 ],
 "metadata": {
  "kernelspec": {
   "display_name": "base",
   "language": "python",
   "name": "python3"
  },
  "language_info": {
   "codemirror_mode": {
    "name": "ipython",
    "version": 3
   },
   "file_extension": ".py",
   "mimetype": "text/x-python",
   "name": "python",
   "nbconvert_exporter": "python",
   "pygments_lexer": "ipython3",
   "version": "3.9.20"
  }
 },
 "nbformat": 4,
 "nbformat_minor": 2
}
